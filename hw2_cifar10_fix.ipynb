{
 "cells": [
  {
   "cell_type": "code",
   "execution_count": 1,
   "metadata": {},
   "outputs": [
    {
     "name": "stderr",
     "output_type": "stream",
     "text": [
      "C:\\Users\\YGKIM\\Anaconda3\\lib\\site-packages\\h5py\\__init__.py:34: FutureWarning: Conversion of the second argument of issubdtype from `float` to `np.floating` is deprecated. In future, it will be treated as `np.float64 == np.dtype(float).type`.\n",
      "  from ._conv import register_converters as _register_converters\n",
      "Using TensorFlow backend.\n"
     ]
    }
   ],
   "source": [
    "# Keras import\n",
    "import keras\n",
    "from keras.datasets import cifar10\n",
    "from keras.models import Sequential\n",
    "from keras.layers import Dense, Dropout, Flatten, Activation\n",
    "\n",
    "# Sklearn import\n",
    "import sklearn\n",
    "from sklearn.model_selection import train_test_split"
   ]
  },
  {
   "cell_type": "code",
   "execution_count": 2,
   "metadata": {},
   "outputs": [
    {
     "name": "stdout",
     "output_type": "stream",
     "text": [
      "X_train shape: (50000, 32, 32, 3)\n",
      "y_train shape: (50000, 1)\n",
      "X_test shape: (10000, 32, 32, 3)\n",
      "y_test shape: (10000, 1)\n"
     ]
    }
   ],
   "source": [
    "# download\n",
    "(X_train, y_train), (X_test, y_test) = cifar10.load_data()\n",
    "\n",
    "print(\"X_train shape: {}\".format(X_train.shape))\n",
    "print(\"y_train shape: {}\".format(y_train.shape))\n",
    "print(\"X_test shape: {}\".format(X_test.shape))\n",
    "print(\"y_test shape: {}\".format(y_test.shape))"
   ]
  },
  {
   "cell_type": "code",
   "execution_count": 3,
   "metadata": {},
   "outputs": [
    {
     "name": "stdout",
     "output_type": "stream",
     "text": [
      "X_train shape: (50000, 3072)\n",
      "X_test shape: (10000, 3072)\n"
     ]
    }
   ],
   "source": [
    "# nomalization\n",
    "X_train = X_train.reshape(50000, 3072)\n",
    "X_test = X_test.reshape(10000, 3072)\n",
    "X_train = X_train.astype('float32')\n",
    "X_test = X_test.astype('float32')\n",
    "\n",
    "# 0-255\n",
    "X_train /= 255\n",
    "X_test /= 255\n",
    "\n",
    "print(\"X_train shape: {}\".format(X_train.shape))\n",
    "print(\"X_test shape: {}\".format(X_test.shape))"
   ]
  },
  {
   "cell_type": "code",
   "execution_count": 4,
   "metadata": {},
   "outputs": [
    {
     "name": "stdout",
     "output_type": "stream",
     "text": [
      "y_train shape: (50000, 10)\n",
      "y_test shape: (10000, 10)\n",
      "[0. 0. 0. 0. 0. 0. 1. 0. 0. 0.]\n"
     ]
    }
   ],
   "source": [
    "# one-hot incording\n",
    "y_train = keras.utils.to_categorical(y_train, 10)\n",
    "y_test = keras.utils.to_categorical(y_test, 10)\n",
    "\n",
    "print(\"y_train shape: {}\".format(y_train.shape))\n",
    "print(\"y_test shape: {}\".format(y_test.shape))\n",
    "print(y_train[0])"
   ]
  },
  {
   "cell_type": "code",
   "execution_count": 5,
   "metadata": {},
   "outputs": [
    {
     "name": "stdout",
     "output_type": "stream",
     "text": [
      "_________________________________________________________________\n",
      "Layer (type)                 Output Shape              Param #   \n",
      "=================================================================\n",
      "dense_1 (Dense)              (None, 512)               1573376   \n",
      "_________________________________________________________________\n",
      "dense_2 (Dense)              (None, 512)               262656    \n",
      "_________________________________________________________________\n",
      "dense_3 (Dense)              (None, 512)               262656    \n",
      "_________________________________________________________________\n",
      "dense_4 (Dense)              (None, 10)                5130      \n",
      "=================================================================\n",
      "Total params: 2,103,818\n",
      "Trainable params: 2,103,818\n",
      "Non-trainable params: 0\n",
      "_________________________________________________________________\n",
      "WARNING:tensorflow:From C:\\Users\\YGKIM\\Anaconda3\\lib\\site-packages\\keras\\backend\\tensorflow_backend.py:2885: calling reduce_sum (from tensorflow.python.ops.math_ops) with keep_dims is deprecated and will be removed in a future version.\n",
      "Instructions for updating:\n",
      "keep_dims is deprecated, use keepdims instead\n",
      "WARNING:tensorflow:From C:\\Users\\YGKIM\\Anaconda3\\lib\\site-packages\\keras\\backend\\tensorflow_backend.py:1349: calling reduce_mean (from tensorflow.python.ops.math_ops) with keep_dims is deprecated and will be removed in a future version.\n",
      "Instructions for updating:\n",
      "keep_dims is deprecated, use keepdims instead\n"
     ]
    }
   ],
   "source": [
    "model = Sequential()\n",
    "model.add(Dense(512, kernel_initializer='uniform', activation='sigmoid', input_shape=(3072,)))\n",
    "model.add(Dense(512, kernel_initializer='uniform', activation='sigmoid'))\n",
    "model.add(Dense(512, kernel_initializer='uniform', activation='sigmoid'))\n",
    "model.add(Dense(10, kernel_initializer='uniform', activation='softmax'))\n",
    "\n",
    "model.summary()\n",
    "model.compile(\n",
    "            loss=keras.losses.categorical_crossentropy,\n",
    "            optimizer='RMSprop',\n",
    "            metrics=['accuracy']\n",
    ")"
   ]
  },
  {
   "cell_type": "code",
   "execution_count": 6,
   "metadata": {},
   "outputs": [
    {
     "name": "stdout",
     "output_type": "stream",
     "text": [
      "Epoch 1/40\n",
      "50000/50000 [==============================] - 33s 658us/step - loss: 2.0309 - acc: 0.2479\n",
      "Epoch 2/40\n",
      "50000/50000 [==============================] - 29s 586us/step - loss: 1.8171 - acc: 0.3433\n",
      "Epoch 3/40\n",
      "50000/50000 [==============================] - 29s 579us/step - loss: 1.7287 - acc: 0.3771\n",
      "Epoch 4/40\n",
      "50000/50000 [==============================] - 29s 585us/step - loss: 1.6605 - acc: 0.4023\n",
      "Epoch 5/40\n",
      "50000/50000 [==============================] - 29s 584us/step - loss: 1.6063 - acc: 0.4249\n",
      "Epoch 6/40\n",
      "50000/50000 [==============================] - 31s 617us/step - loss: 1.5684 - acc: 0.4385\n",
      "Epoch 7/40\n",
      "50000/50000 [==============================] - 32s 641us/step - loss: 1.5331 - acc: 0.4508\n",
      "Epoch 8/40\n",
      "50000/50000 [==============================] - 28s 559us/step - loss: 1.4986 - acc: 0.4636\n",
      "Epoch 9/40\n",
      "50000/50000 [==============================] - 32s 635us/step - loss: 1.4741 - acc: 0.4702\n",
      "Epoch 10/40\n",
      "50000/50000 [==============================] - 29s 573us/step - loss: 1.4510 - acc: 0.4817\n",
      "Epoch 11/40\n",
      "50000/50000 [==============================] - 30s 604us/step - loss: 1.4305 - acc: 0.4877\n",
      "Epoch 12/40\n",
      "50000/50000 [==============================] - 30s 598us/step - loss: 1.4065 - acc: 0.4929\n",
      "Epoch 13/40\n",
      "50000/50000 [==============================] - 29s 586us/step - loss: 1.3888 - acc: 0.5018\n",
      "Epoch 14/40\n",
      "50000/50000 [==============================] - 31s 623us/step - loss: 1.3679 - acc: 0.5088\n",
      "Epoch 15/40\n",
      "50000/50000 [==============================] - 30s 591us/step - loss: 1.3572 - acc: 0.5132\n",
      "Epoch 16/40\n",
      "50000/50000 [==============================] - 31s 627us/step - loss: 1.3370 - acc: 0.5200\n",
      "Epoch 17/40\n",
      "50000/50000 [==============================] - 32s 639us/step - loss: 1.3163 - acc: 0.5271\n",
      "Epoch 18/40\n",
      "50000/50000 [==============================] - 31s 620us/step - loss: 1.2993 - acc: 0.5343\n",
      "Epoch 19/40\n",
      "50000/50000 [==============================] - 30s 603us/step - loss: 1.2909 - acc: 0.5367\n",
      "Epoch 20/40\n",
      "50000/50000 [==============================] - 34s 676us/step - loss: 1.2774 - acc: 0.5412\n",
      "Epoch 21/40\n",
      "50000/50000 [==============================] - 32s 642us/step - loss: 1.2601 - acc: 0.5471\n",
      "Epoch 22/40\n",
      "50000/50000 [==============================] - 34s 672us/step - loss: 1.2461 - acc: 0.5534\n",
      "Epoch 23/40\n",
      "50000/50000 [==============================] - 29s 582us/step - loss: 1.2374 - acc: 0.5551\n",
      "Epoch 24/40\n",
      "50000/50000 [==============================] - 33s 660us/step - loss: 1.2210 - acc: 0.5624\n",
      "Epoch 25/40\n",
      "50000/50000 [==============================] - 34s 672us/step - loss: 1.2058 - acc: 0.5677\n",
      "Epoch 26/40\n",
      "50000/50000 [==============================] - 32s 640us/step - loss: 1.1923 - acc: 0.5711\n",
      "Epoch 27/40\n",
      "50000/50000 [==============================] - 34s 684us/step - loss: 1.1773 - acc: 0.5759\n",
      "Epoch 28/40\n",
      "50000/50000 [==============================] - 33s 665us/step - loss: 1.1629 - acc: 0.5842\n",
      "Epoch 29/40\n",
      "50000/50000 [==============================] - 35s 692us/step - loss: 1.1496 - acc: 0.5866\n",
      "Epoch 30/40\n",
      "50000/50000 [==============================] - 38s 752us/step - loss: 1.1307 - acc: 0.5948\n",
      "Epoch 31/40\n",
      "50000/50000 [==============================] - 35s 704us/step - loss: 1.1177 - acc: 0.59892s - ETA: 0s - loss: 1.1174 - acc:\n",
      "Epoch 32/40\n",
      "50000/50000 [==============================] - 33s 669us/step - loss: 1.1034 - acc: 0.6050\n",
      "Epoch 33/40\n",
      "50000/50000 [==============================] - 34s 681us/step - loss: 1.0919 - acc: 0.6050\n",
      "Epoch 34/40\n",
      "50000/50000 [==============================] - 34s 686us/step - loss: 1.0798 - acc: 0.6127\n",
      "Epoch 35/40\n",
      "50000/50000 [==============================] - 35s 692us/step - loss: 1.0689 - acc: 0.6160\n",
      "Epoch 36/40\n",
      "50000/50000 [==============================] - 32s 648us/step - loss: 1.0533 - acc: 0.6204\n",
      "Epoch 37/40\n",
      "50000/50000 [==============================] - 33s 659us/step - loss: 1.0412 - acc: 0.6258\n",
      "Epoch 38/40\n",
      "50000/50000 [==============================] - 33s 652us/step - loss: 1.0288 - acc: 0.6291\n",
      "Epoch 39/40\n",
      "50000/50000 [==============================] - 33s 654us/step - loss: 1.0103 - acc: 0.6385\n",
      "Epoch 40/40\n",
      "50000/50000 [==============================] - 33s 651us/step - loss: 1.0005 - acc: 0.63921s -\n",
      "Test loss: 1.6233612100601196\n",
      "Test accuracy: 48.86%\n"
     ]
    }
   ],
   "source": [
    "model.fit(\n",
    "    X_train, \n",
    "    y_train,\n",
    "    epochs=40,\n",
    "    batch_size=100,\n",
    "    verbose=1\n",
    ")\n",
    "\n",
    "score = model.evaluate(X_test, y_test, verbose=0)\n",
    "print('Test loss:', score[0])\n",
    "print('Test accuracy: {}%'.format(score[1]*100))"
   ]
  },
  {
   "cell_type": "code",
   "execution_count": null,
   "metadata": {
    "collapsed": true
   },
   "outputs": [],
   "source": []
  }
 ],
 "metadata": {
  "kernelspec": {
   "display_name": "Python 3",
   "language": "python",
   "name": "python3"
  },
  "language_info": {
   "codemirror_mode": {
    "name": "ipython",
    "version": 3
   },
   "file_extension": ".py",
   "mimetype": "text/x-python",
   "name": "python",
   "nbconvert_exporter": "python",
   "pygments_lexer": "ipython3",
   "version": "3.5.3"
  }
 },
 "nbformat": 4,
 "nbformat_minor": 2
}
