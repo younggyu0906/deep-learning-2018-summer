{
 "cells": [
  {
   "cell_type": "code",
   "execution_count": 1,
   "metadata": {},
   "outputs": [
    {
     "name": "stderr",
     "output_type": "stream",
     "text": [
      "C:\\Users\\YGKIM\\Anaconda3\\lib\\site-packages\\h5py\\__init__.py:34: FutureWarning: Conversion of the second argument of issubdtype from `float` to `np.floating` is deprecated. In future, it will be treated as `np.float64 == np.dtype(float).type`.\n",
      "  from ._conv import register_converters as _register_converters\n",
      "Using TensorFlow backend.\n"
     ]
    }
   ],
   "source": [
    "# Keras import\n",
    "import keras\n",
    "from keras.datasets import cifar100\n",
    "from keras.models import Sequential\n",
    "from keras.layers import Dense, Dropout, Flatten, Activation\n",
    "\n",
    "# Sklearn import\n",
    "import sklearn\n",
    "from sklearn.model_selection import train_test_split"
   ]
  },
  {
   "cell_type": "code",
   "execution_count": 2,
   "metadata": {},
   "outputs": [
    {
     "name": "stdout",
     "output_type": "stream",
     "text": [
      "X_train shape: (50000, 32, 32, 3)\n",
      "y_train shape: (50000, 1)\n",
      "X_test shape: (10000, 32, 32, 3)\n",
      "y_test shape: (10000, 1)\n"
     ]
    }
   ],
   "source": [
    "# download\n",
    "(X_train, y_train), (X_test, y_test) = cifar100.load_data()\n",
    "\n",
    "print(\"X_train shape: {}\".format(X_train.shape))\n",
    "print(\"y_train shape: {}\".format(y_train.shape))\n",
    "print(\"X_test shape: {}\".format(X_test.shape))\n",
    "print(\"y_test shape: {}\".format(y_test.shape))"
   ]
  },
  {
   "cell_type": "code",
   "execution_count": 3,
   "metadata": {},
   "outputs": [
    {
     "name": "stdout",
     "output_type": "stream",
     "text": [
      "X_train shape: (50000, 3072)\n",
      "X_test shape: (10000, 3072)\n"
     ]
    }
   ],
   "source": [
    "# nomalization\n",
    "X_train = X_train.reshape(50000, 3072)\n",
    "X_test = X_test.reshape(10000, 3072)\n",
    "X_train = X_train.astype('float32')\n",
    "X_test = X_test.astype('float32')\n",
    "\n",
    "# 0-255\n",
    "X_train /= 255\n",
    "X_test /= 255\n",
    "\n",
    "print(\"X_train shape: {}\".format(X_train.shape))\n",
    "print(\"X_test shape: {}\".format(X_test.shape))"
   ]
  },
  {
   "cell_type": "code",
   "execution_count": 4,
   "metadata": {},
   "outputs": [
    {
     "name": "stdout",
     "output_type": "stream",
     "text": [
      "y_train shape: (50000, 100)\n",
      "y_test shape: (10000, 100)\n",
      "[0. 0. 0. 0. 0. 0. 0. 0. 0. 0. 0. 0. 0. 0. 0. 0. 0. 0. 0. 1. 0. 0. 0. 0.\n",
      " 0. 0. 0. 0. 0. 0. 0. 0. 0. 0. 0. 0. 0. 0. 0. 0. 0. 0. 0. 0. 0. 0. 0. 0.\n",
      " 0. 0. 0. 0. 0. 0. 0. 0. 0. 0. 0. 0. 0. 0. 0. 0. 0. 0. 0. 0. 0. 0. 0. 0.\n",
      " 0. 0. 0. 0. 0. 0. 0. 0. 0. 0. 0. 0. 0. 0. 0. 0. 0. 0. 0. 0. 0. 0. 0. 0.\n",
      " 0. 0. 0. 0.]\n"
     ]
    }
   ],
   "source": [
    "# one-hot incording\n",
    "y_train = keras.utils.to_categorical(y_train, 100)\n",
    "y_test = keras.utils.to_categorical(y_test, 100)\n",
    "\n",
    "print(\"y_train shape: {}\".format(y_train.shape))\n",
    "print(\"y_test shape: {}\".format(y_test.shape))\n",
    "print(y_train[0])"
   ]
  },
  {
   "cell_type": "code",
   "execution_count": 5,
   "metadata": {},
   "outputs": [
    {
     "name": "stdout",
     "output_type": "stream",
     "text": [
      "_________________________________________________________________\n",
      "Layer (type)                 Output Shape              Param #   \n",
      "=================================================================\n",
      "dense_1 (Dense)              (None, 1024)              3146752   \n",
      "_________________________________________________________________\n",
      "dense_2 (Dense)              (None, 1024)              1049600   \n",
      "_________________________________________________________________\n",
      "dense_3 (Dense)              (None, 1024)              1049600   \n",
      "_________________________________________________________________\n",
      "dense_4 (Dense)              (None, 1024)              1049600   \n",
      "_________________________________________________________________\n",
      "dense_5 (Dense)              (None, 100)               102500    \n",
      "=================================================================\n",
      "Total params: 6,398,052\n",
      "Trainable params: 6,398,052\n",
      "Non-trainable params: 0\n",
      "_________________________________________________________________\n",
      "WARNING:tensorflow:From C:\\Users\\YGKIM\\Anaconda3\\lib\\site-packages\\keras\\backend\\tensorflow_backend.py:2885: calling reduce_sum (from tensorflow.python.ops.math_ops) with keep_dims is deprecated and will be removed in a future version.\n",
      "Instructions for updating:\n",
      "keep_dims is deprecated, use keepdims instead\n",
      "WARNING:tensorflow:From C:\\Users\\YGKIM\\Anaconda3\\lib\\site-packages\\keras\\backend\\tensorflow_backend.py:1349: calling reduce_mean (from tensorflow.python.ops.math_ops) with keep_dims is deprecated and will be removed in a future version.\n",
      "Instructions for updating:\n",
      "keep_dims is deprecated, use keepdims instead\n"
     ]
    }
   ],
   "source": [
    "model = Sequential()\n",
    "model.add(Dense(1024, activation='relu', input_shape=(3072,)))\n",
    "model.add(Dense(1024, activation='relu'))\n",
    "model.add(Dense(1024, activation='relu'))\n",
    "model.add(Dense(1024, activation='relu'))\n",
    "model.add(Dense(100, activation='softmax'))\n",
    "\n",
    "model.summary()\n",
    "model.compile(\n",
    "            loss=keras.losses.categorical_crossentropy,\n",
    "            optimizer='adam',\n",
    "            metrics=['accuracy']\n",
    ")"
   ]
  },
  {
   "cell_type": "code",
   "execution_count": 6,
   "metadata": {},
   "outputs": [
    {
     "name": "stdout",
     "output_type": "stream",
     "text": [
      "Epoch 1/70\n",
      "50000/50000 [==============================] - 69s 1ms/step - loss: 4.1121 - acc: 0.0678\n",
      "Epoch 2/70\n",
      "50000/50000 [==============================] - 66s 1ms/step - loss: 3.6953 - acc: 0.1291\n",
      "Epoch 3/70\n",
      "50000/50000 [==============================] - 67s 1ms/step - loss: 3.4978 - acc: 0.1641\n",
      "Epoch 4/70\n",
      "50000/50000 [==============================] - 67s 1ms/step - loss: 3.3567 - acc: 0.1869\n",
      "Epoch 5/70\n",
      "50000/50000 [==============================] - 67s 1ms/step - loss: 3.2384 - acc: 0.2099\n",
      "Epoch 6/70\n",
      "50000/50000 [==============================] - 67s 1ms/step - loss: 3.1426 - acc: 0.2246\n",
      "Epoch 7/70\n",
      "50000/50000 [==============================] - 67s 1ms/step - loss: 3.0346 - acc: 0.2435\n",
      "Epoch 8/70\n",
      "50000/50000 [==============================] - 67s 1ms/step - loss: 2.9362 - acc: 0.2622\n",
      "Epoch 9/70\n",
      "50000/50000 [==============================] - 66s 1ms/step - loss: 2.8305 - acc: 0.2783\n",
      "Epoch 10/70\n",
      "50000/50000 [==============================] - 66s 1ms/step - loss: 2.7150 - acc: 0.3015\n",
      "Epoch 11/70\n",
      "50000/50000 [==============================] - 67s 1ms/step - loss: 2.6038 - acc: 0.3213\n",
      "Epoch 12/70\n",
      "50000/50000 [==============================] - 67s 1ms/step - loss: 2.4675 - acc: 0.3498\n",
      "Epoch 13/70\n",
      "50000/50000 [==============================] - 66s 1ms/step - loss: 2.3285 - acc: 0.3769\n",
      "Epoch 14/70\n",
      "50000/50000 [==============================] - 67s 1ms/step - loss: 2.1696 - acc: 0.4123\n",
      "Epoch 15/70\n",
      "50000/50000 [==============================] - 67s 1ms/step - loss: 1.9958 - acc: 0.4515\n",
      "Epoch 16/70\n",
      "50000/50000 [==============================] - 67s 1ms/step - loss: 1.8211 - acc: 0.4933\n",
      "Epoch 17/70\n",
      "50000/50000 [==============================] - 6881s 138ms/step - loss: 1.6440 - acc: 0.5371\n",
      "Epoch 18/70\n",
      "50000/50000 [==============================] - 68s 1ms/step - loss: 1.4779 - acc: 0.5806\n",
      "Epoch 19/70\n",
      "50000/50000 [==============================] - 67s 1ms/step - loss: 1.3090 - acc: 0.6229\n",
      "Epoch 20/70\n",
      "50000/50000 [==============================] - 67s 1ms/step - loss: 1.1405 - acc: 0.6695\n",
      "Epoch 21/70\n",
      "50000/50000 [==============================] - 67s 1ms/step - loss: 1.0186 - acc: 0.6992\n",
      "Epoch 22/70\n",
      "50000/50000 [==============================] - 73s 1ms/step - loss: 0.9138 - acc: 0.7286\n",
      "Epoch 23/70\n",
      "50000/50000 [==============================] - 74s 1ms/step - loss: 0.7729 - acc: 0.7684\n",
      "Epoch 24/70\n",
      "50000/50000 [==============================] - 73s 1ms/step - loss: 0.6919 - acc: 0.7906\n",
      "Epoch 25/70\n",
      "50000/50000 [==============================] - 73s 1ms/step - loss: 0.6147 - acc: 0.8128\n",
      "Epoch 26/70\n",
      "50000/50000 [==============================] - 68s 1ms/step - loss: 0.5344 - acc: 0.8392\n",
      "Epoch 27/70\n",
      "50000/50000 [==============================] - 67s 1ms/step - loss: 0.5362 - acc: 0.8362\n",
      "Epoch 28/70\n",
      "50000/50000 [==============================] - 67s 1ms/step - loss: 0.4675 - acc: 0.8559\n",
      "Epoch 29/70\n",
      "50000/50000 [==============================] - 67s 1ms/step - loss: 0.4227 - acc: 0.8683\n",
      "Epoch 30/70\n",
      "50000/50000 [==============================] - 67s 1ms/step - loss: 0.4054 - acc: 0.8740\n",
      "Epoch 31/70\n",
      "50000/50000 [==============================] - 67s 1ms/step - loss: 0.3700 - acc: 0.8866\n",
      "Epoch 32/70\n",
      "50000/50000 [==============================] - 67s 1ms/step - loss: 0.3684 - acc: 0.8862\n",
      "Epoch 33/70\n",
      "50000/50000 [==============================] - 67s 1ms/step - loss: 0.3509 - acc: 0.8916\n",
      "Epoch 34/70\n",
      "50000/50000 [==============================] - 69s 1ms/step - loss: 0.3377 - acc: 0.8951\n",
      "Epoch 35/70\n",
      "50000/50000 [==============================] - 72s 1ms/step - loss: 0.3139 - acc: 0.9033\n",
      "Epoch 36/70\n",
      "50000/50000 [==============================] - 67s 1ms/step - loss: 0.3154 - acc: 0.9044\n",
      "Epoch 37/70\n",
      "50000/50000 [==============================] - 67s 1ms/step - loss: 0.2749 - acc: 0.9154\n",
      "Epoch 38/70\n",
      "50000/50000 [==============================] - 67s 1ms/step - loss: 0.2998 - acc: 0.9073\n",
      "Epoch 39/70\n",
      "50000/50000 [==============================] - 67s 1ms/step - loss: 0.3329 - acc: 0.8975\n",
      "Epoch 40/70\n",
      "50000/50000 [==============================] - 67s 1ms/step - loss: 0.3150 - acc: 0.9043\n",
      "Epoch 41/70\n",
      "50000/50000 [==============================] - 67s 1ms/step - loss: 0.2494 - acc: 0.9240\n",
      "Epoch 42/70\n",
      "50000/50000 [==============================] - 67s 1ms/step - loss: 0.3053 - acc: 0.9069\n",
      "Epoch 43/70\n",
      "50000/50000 [==============================] - 67s 1ms/step - loss: 0.2642 - acc: 0.9198\n",
      "Epoch 44/70\n",
      "50000/50000 [==============================] - 67s 1ms/step - loss: 0.2561 - acc: 0.9226\n",
      "Epoch 45/70\n",
      "50000/50000 [==============================] - 67s 1ms/step - loss: 0.2883 - acc: 0.9136\n",
      "Epoch 46/70\n",
      "50000/50000 [==============================] - 67s 1ms/step - loss: 0.2701 - acc: 0.9163\n",
      "Epoch 47/70\n",
      "50000/50000 [==============================] - 69s 1ms/step - loss: 0.2449 - acc: 0.9250\n",
      "Epoch 48/70\n",
      "50000/50000 [==============================] - 77s 2ms/step - loss: 0.2925 - acc: 0.9130\n",
      "Epoch 49/70\n",
      "50000/50000 [==============================] - 72s 1ms/step - loss: 0.2744 - acc: 0.9202\n",
      "Epoch 50/70\n",
      "50000/50000 [==============================] - 71s 1ms/step - loss: 0.3335 - acc: 0.9045\n",
      "Epoch 51/70\n",
      "50000/50000 [==============================] - 67s 1ms/step - loss: 0.2270 - acc: 0.9317\n",
      "Epoch 52/70\n",
      "50000/50000 [==============================] - 68s 1ms/step - loss: 0.1993 - acc: 0.9407\n",
      "Epoch 53/70\n",
      "50000/50000 [==============================] - 68s 1ms/step - loss: 0.2515 - acc: 0.9271\n",
      "Epoch 54/70\n",
      "50000/50000 [==============================] - 67s 1ms/step - loss: 0.3227 - acc: 0.9080\n",
      "Epoch 55/70\n",
      "50000/50000 [==============================] - 68s 1ms/step - loss: 0.2594 - acc: 0.9244\n",
      "Epoch 56/70\n",
      "50000/50000 [==============================] - 74s 1ms/step - loss: 0.2412 - acc: 0.9315\n",
      "Epoch 57/70\n",
      "50000/50000 [==============================] - 73s 1ms/step - loss: 0.2514 - acc: 0.9280\n",
      "Epoch 58/70\n",
      "50000/50000 [==============================] - 75s 2ms/step - loss: 0.2906 - acc: 0.9176\n",
      "Epoch 59/70\n",
      "50000/50000 [==============================] - 68s 1ms/step - loss: 0.2532 - acc: 0.9276\n",
      "Epoch 60/70\n",
      "50000/50000 [==============================] - 67s 1ms/step - loss: 0.2617 - acc: 0.9276\n",
      "Epoch 61/70\n",
      "50000/50000 [==============================] - 68s 1ms/step - loss: 0.2354 - acc: 0.9327\n",
      "Epoch 62/70\n",
      "50000/50000 [==============================] - 72s 1ms/step - loss: 0.2738 - acc: 0.9244\n",
      "Epoch 63/70\n",
      "50000/50000 [==============================] - 66s 1ms/step - loss: 0.2392 - acc: 0.9318\n",
      "Epoch 64/70\n",
      "50000/50000 [==============================] - 66s 1ms/step - loss: 0.2495 - acc: 0.9309\n",
      "Epoch 65/70\n",
      "50000/50000 [==============================] - 69s 1ms/step - loss: 0.2660 - acc: 0.9287\n",
      "Epoch 66/70\n",
      "50000/50000 [==============================] - 67s 1ms/step - loss: 0.2552 - acc: 0.9290\n",
      "Epoch 67/70\n",
      "50000/50000 [==============================] - 66s 1ms/step - loss: 0.2287 - acc: 0.9373\n",
      "Epoch 68/70\n",
      "50000/50000 [==============================] - 66s 1ms/step - loss: 0.2364 - acc: 0.9364\n",
      "Epoch 69/70\n",
      "50000/50000 [==============================] - 66s 1ms/step - loss: 0.2897 - acc: 0.9241\n",
      "Epoch 70/70\n",
      "50000/50000 [==============================] - 66s 1ms/step - loss: 0.2871 - acc: 0.9245\n",
      "Test loss: 9.472371533203125\n",
      "Test accuracy: 21.64%\n"
     ]
    }
   ],
   "source": [
    "model.fit(\n",
    "    X_train, \n",
    "    y_train,\n",
    "    epochs=70,\n",
    "    batch_size=200,\n",
    "    verbose=1\n",
    ")\n",
    "\n",
    "score = model.evaluate(X_test, y_test, verbose=0)\n",
    "print('Test loss:', score[0])\n",
    "print('Test accuracy: {}%'.format(score[1]*100))"
   ]
  },
  {
   "cell_type": "code",
   "execution_count": null,
   "metadata": {
    "collapsed": true
   },
   "outputs": [],
   "source": []
  }
 ],
 "metadata": {
  "kernelspec": {
   "display_name": "Python 3",
   "language": "python",
   "name": "python3"
  },
  "language_info": {
   "codemirror_mode": {
    "name": "ipython",
    "version": 3
   },
   "file_extension": ".py",
   "mimetype": "text/x-python",
   "name": "python",
   "nbconvert_exporter": "python",
   "pygments_lexer": "ipython3",
   "version": "3.5.3"
  }
 },
 "nbformat": 4,
 "nbformat_minor": 2
}
